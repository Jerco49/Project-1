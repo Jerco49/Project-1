{
 "cells": [
  {
   "cell_type": "code",
   "execution_count": 1,
   "metadata": {},
   "outputs": [],
   "source": [
    "import numpy as np\n",
    "import pandas as pd\n",
    "import matplotlib.pyplot as plt\n",
    "\n",
    "listingsChicago = \"Resources/listingschicago.csv\"\n",
    "listingsAustin = \"Resources/austinlistings.csv\" \n",
    "listingsNewYorkCity = \"Resources/listingsnewyork.csv\"\n",
    "listingsSanFrancisco = \"Resources/listingssanfran.csv\""
   ]
  },
  {
   "cell_type": "code",
   "execution_count": 2,
   "metadata": {},
   "outputs": [],
   "source": [
    "#Get Chicago Values\n",
    "listingsChicago_df = pd.read_csv(listingsChicago, low_memory=False)\n",
    "listingsChicago_df['last_review'] = pd.to_datetime(listingsChicago_df['last_review'])\n",
    "listingsChicago_df = listingsChicago_df.sort_values('last_review',ascending=False)\n",
    "listingsChicago_df['price'] = listingsChicago_df['price'].str.replace('$','').str.replace(',','').astype(float)\n",
    "mean_price_city_Chicago = round(listingsChicago_df['price'].mean(),2)\n",
    "mean_reviews_Chicago = round(listingsChicago_df['review_scores_rating'].mean(),2)\n",
    "avg_availability_Chicago = listingsChicago_df['availability_365'].mean()\n",
    "price_by_location_Chicago = listingsChicago_df.groupby(['neighbourhood'])['price'].mean().reset_index().sort_values('price',ascending=False)\n",
    "total_availability_by_roomtype365_chicago = listingsChicago_df.groupby([\"room_type\"])[\"availability_365\"].mean()\n",
    "most_expensive_apartment_Chicago = listingsChicago_df.groupby(['host_name','neighbourhood','listing_url'])['price'].max().reset_index().sort_values('price', ascending = False)\n",
    "cleanest_city_Chicago = listingsChicago_df['review_scores_cleanliness'].mean()\n",
    "bookings_Chicago = listingsChicago_df['id'].value_counts().sum()\n",
    "mean_reviews_Chicago = round(listingsChicago_df['review_scores_rating'].mean(),2)\n",
    "\n"
   ]
  },
  {
   "cell_type": "code",
   "execution_count": 3,
   "metadata": {},
   "outputs": [],
   "source": [
    "listingsAustin_df = pd.read_csv(listingsAustin, low_memory=False)\n",
    "\n",
    "listingsAustin_df['last_review'] = pd.to_datetime(listingsAustin_df['last_review'])\n",
    "listingsAustin_df = listingsAustin_df.sort_values('last_review',ascending=False)\n",
    "listingsAustin_df['price'] = listingsAustin_df['price'].str.replace('$','').str.replace(',','').astype(float)\n",
    "mean_price_city_Austin = round(listingsAustin_df['price'].mean(),2)\n",
    "mean_reviews_Austin = round(listingsAustin_df['review_scores_rating'].mean(),2)\n",
    "avg_availability_Austin = listingsAustin_df['availability_365'].mean()\n",
    "price_by_location_Austin = listingsAustin_df.groupby(['neighbourhood'])['price'].mean().reset_index().sort_values('price',ascending=False)\n",
    "total_availability_by_roomtype365_Austin = listingsAustin_df.groupby([\"room_type\"])[\"availability_365\"].mean()\n",
    "most_expensive_apartment_Austin = listingsAustin_df.groupby(['host_name','neighbourhood','listing_url'])['price'].max().reset_index().sort_values('price', ascending = False)\n",
    "cleanest_city_Austin = listingsAustin_df['review_scores_cleanliness'].mean()\n",
    "bookings_Austin = listingsAustin_df['id'].value_counts().sum()\n",
    "mean_reviews_Austin = round(listingsAustin_df['review_scores_rating'].mean(),2)\n",
    "\n"
   ]
  },
  {
   "cell_type": "code",
   "execution_count": 4,
   "metadata": {},
   "outputs": [],
   "source": [
    "listingsNewYorkCity_df = pd.read_csv(listingsNewYorkCity, low_memory=False)\n",
    "listingsNewYorkCity_df['last_review'] = pd.to_datetime(listingsNewYorkCity_df['last_review'])\n",
    "listingsNewYorkCity_df = listingsNewYorkCity_df.sort_values('last_review',ascending=False)\n",
    "listingsNewYorkCity_df['price'] = listingsNewYorkCity_df['price'].str.replace('$','').str.replace(',','').astype(float)\n",
    "mean_price_city_NewYorkCity = round(listingsNewYorkCity_df['price'].mean(),2)\n",
    "mean_reviews_NewYorkCity = round(listingsNewYorkCity_df['review_scores_rating'].mean(),2)\n",
    "avg_availability_NewYorkCity = listingsNewYorkCity_df['availability_365'].mean()\n",
    "price_by_location_NewYorkCity = listingsNewYorkCity_df.groupby(['neighbourhood'])['price'].mean().reset_index().sort_values('price',ascending=False)\n",
    "total_availability_by_roomtype365_NYC = listingsNewYorkCity_df.groupby([\"room_type\"])[\"availability_365\"].mean()\n",
    "cleanest_city_NewYorkCity = listingsNewYorkCity_df['review_scores_cleanliness'].mean()\n",
    "bookings_NewYorkCity = listingsNewYorkCity_df['id'].value_counts().sum()\n",
    "mean_reviews_NewYorkCity = round(listingsNewYorkCity_df['review_scores_rating'].mean(),2)\n",
    "\n"
   ]
  },
  {
   "cell_type": "code",
   "execution_count": 7,
   "metadata": {},
   "outputs": [],
   "source": [
    "listingsSanFrancisco_df = pd.read_csv(listingsSanFrancisco, low_memory=False)\n",
    "listingsSanFrancisco_df = listingsSanFrancisco_df.sort_values('last_review',ascending=False)\n",
    "listingsSanFrancisco_df['price'] = listingsSanFrancisco_df['price'].str.replace('$','').str.replace(',','').astype(float)\n",
    "mean_price_city_SanFrancisco = round(listingsSanFrancisco_df['price'].mean(),2)\n",
    "mean_reviews_SanFrancisco = round(listingsSanFrancisco_df['review_scores_rating'].mean(),2)\n",
    "avg_availability_SanFrancisco = listingsSanFrancisco_df['availability_365'].mean()\n",
    "price_by_location_SanFrancisco = listingsSanFrancisco_df.groupby(['neighbourhood'])['price'].mean().reset_index().sort_values('price',ascending=False)\n",
    "total_availability_by_roomtype365_SanFrancisco = listingsSanFrancisco_df.groupby([\"room_type\"])[\"availability_365\"].mean()\n",
    "cleanest_city_SanFrancisco = listingsSanFrancisco_df['review_scores_cleanliness'].mean()\n",
    "bookings_SanFrancisco = listingsSanFrancisco_df['id'].value_counts().sum()\n",
    "mean_reviews_SanFrancisco = round(listingsSanFrancisco_df['review_scores_rating'].mean(),2)\n"
   ]
  },
  {
   "cell_type": "code",
   "execution_count": 56,
   "metadata": {},
   "outputs": [
    {
     "data": {
      "image/png": "[encoded data removed]",
      "text/plain": [
       "<matplotlib.figure.Figure at 0x117cf6438>"
      ]
     },
     "metadata": {},
     "output_type": "display_data"
    }
   ],
   "source": []
  },
  {
   "cell_type": "code",
   "execution_count": 57,
   "metadata": {},
   "outputs": [
    {
     "data": {
      "image/png": "[encoded data removed]",
      "text/plain": [
       "<matplotlib.figure.Figure at 0x1144f4358>"
      ]
     },
     "metadata": {},
     "output_type": "display_data"
    }
   ],
   "source": []
  },
  {
   "cell_type": "code",
   "execution_count": null,
   "metadata": {
    "collapsed": true
   },
   "outputs": [],
   "source": []
  }
 ],
 "metadata": {
  "kernelspec": {
   "display_name": "Python 3",
   "language": "python",
   "name": "python3"
  },
  "language_info": {
   "codemirror_mode": {
    "name": "ipython",
    "version": 3
   },
   "file_extension": ".py",
   "mimetype": "text/x-python",
   "name": "python",
   "nbconvert_exporter": "python",
   "pygments_lexer": "ipython3",
   "version": "3.6.5"
  }
 },
 "nbformat": 4,
 "nbformat_minor": 2
}
