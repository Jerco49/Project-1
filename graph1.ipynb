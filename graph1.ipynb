{
 "cells": [
  {
   "cell_type": "code",
   "execution_count": 1,
   "metadata": {},
   "outputs": [
    {
     "ename": "NameError",
     "evalue": "name 'total_availability_by_roomtype365_chicago' is not defined",
     "output_type": "error",
     "traceback": [
      "\u001b[0;31m---------------------------------------------------------------------------\u001b[0m",
      "\u001b[0;31mNameError\u001b[0m                                 Traceback (most recent call last)",
      "\u001b[0;32m<ipython-input-1-9c81f7f1c8c7>\u001b[0m in \u001b[0;36m<module>\u001b[0;34m()\u001b[0m\n\u001b[1;32m      7\u001b[0m \u001b[0mexplode\u001b[0m \u001b[0;34m=\u001b[0m \u001b[0;34m(\u001b[0m\u001b[0;36m0.0\u001b[0m\u001b[0;34m,\u001b[0m \u001b[0;36m0.0\u001b[0m\u001b[0;34m,\u001b[0m \u001b[0;36m0.1\u001b[0m\u001b[0;34m)\u001b[0m\u001b[0;34m\u001b[0m\u001b[0m\n\u001b[1;32m      8\u001b[0m \u001b[0mcolors\u001b[0m \u001b[0;34m=\u001b[0m \u001b[0;34m[\u001b[0m\u001b[0;34m\"lightcoral\"\u001b[0m\u001b[0;34m,\u001b[0m \u001b[0;34m\"lightskyblue\"\u001b[0m\u001b[0;34m,\u001b[0m \u001b[0;34m\"gold\"\u001b[0m\u001b[0;34m]\u001b[0m\u001b[0;34m\u001b[0m\u001b[0m\n\u001b[0;32m----> 9\u001b[0;31m \u001b[0mplt\u001b[0m\u001b[0;34m.\u001b[0m\u001b[0mpie\u001b[0m\u001b[0;34m(\u001b[0m\u001b[0mtotal_availability_by_roomtype365_chicago\u001b[0m\u001b[0;34m,\u001b[0m\u001b[0mexplode\u001b[0m \u001b[0;34m=\u001b[0m \u001b[0mexplode\u001b[0m\u001b[0;34m,\u001b[0m \u001b[0mlabels\u001b[0m \u001b[0;34m=\u001b[0m \u001b[0mlabels\u001b[0m\u001b[0;34m,\u001b[0m \u001b[0mcolors\u001b[0m \u001b[0;34m=\u001b[0m \u001b[0mcolors\u001b[0m\u001b[0;34m,\u001b[0m \u001b[0mautopct\u001b[0m \u001b[0;34m=\u001b[0m \u001b[0;34m\"%1.1f%%\"\u001b[0m\u001b[0;34m,\u001b[0m \u001b[0mshadow\u001b[0m \u001b[0;34m=\u001b[0m \u001b[0;32mTrue\u001b[0m\u001b[0;34m,\u001b[0m \u001b[0mstartangle\u001b[0m \u001b[0;34m=\u001b[0m \u001b[0;36m150\u001b[0m\u001b[0;34m)\u001b[0m\u001b[0;34m\u001b[0m\u001b[0m\n\u001b[0m\u001b[1;32m     10\u001b[0m \u001b[0mplt\u001b[0m\u001b[0;34m.\u001b[0m\u001b[0mtitle\u001b[0m\u001b[0;34m(\u001b[0m\u001b[0;34m\"Average availability_365 per roomtype\"\u001b[0m\u001b[0;34m)\u001b[0m\u001b[0;34m\u001b[0m\u001b[0m\n\u001b[1;32m     11\u001b[0m \u001b[0mplt\u001b[0m\u001b[0;34m.\u001b[0m\u001b[0msavefig\u001b[0m\u001b[0;34m(\u001b[0m\u001b[0;34m\"/Users/stevenovis/Desktop/project1/averageavailability365chicagopie.png\"\u001b[0m\u001b[0;34m)\u001b[0m\u001b[0;34m\u001b[0m\u001b[0m\n",
      "\u001b[0;31mNameError\u001b[0m: name 'total_availability_by_roomtype365_chicago' is not defined"
     ]
    }
   ],
   "source": [
    "import matplotlib.pyplot as plt\n",
    "import pandas as pd\n",
    "import numpy as np\n",
    "import project1\n",
    "\n",
    "labels = [\"Entire home/apt\", \"Private Room\",\"Shared Room\"]\n",
    "explode = (0.0, 0.0, 0.1)\n",
    "colors = [\"lightcoral\", \"lightskyblue\", \"gold\"]\n",
    "plt.pie(total_availability_by_roomtype365_chicago,explode = explode, labels = labels, colors = colors, autopct = \"%1.1f%%\", shadow = True, startangle = 150)\n",
    "plt.title(\"Average availability_365 per roomtype\")\n",
    "plt.savefig(\"Output/averageavailability365chicagopie.png\")\n",
    "plt.show()\n",
    "\n",
    "pbl_Chicago_new = price_by_location_Chicago.iloc[0:24,:]\n",
    "pbl_Chicago_new.plot(x='neighbourhood', y='price', kind='bar', color = 'navy')\n",
    "plt.title(\"Average Price per Neighbourhood in Chicago\")\n",
    "plt.xlabel(\"Neighbourhood\")\n",
    "plt.ylabel(\"Average Price($) (Top 25)\")\n",
    "plt.savefig('Output/ChicagoLocationPriceGraph.png',bbox_inches = 'tight')\n",
    "plt.show()\n",
    "\n"
   ]
  },
  {
   "cell_type": "code",
   "execution_count": 2,
   "metadata": {},
   "outputs": [
    {
     "ename": "NameError",
     "evalue": "name 'total_availability_by_roomtype365_Austin' is not defined",
     "output_type": "error",
     "traceback": [
      "\u001b[0;31m---------------------------------------------------------------------------\u001b[0m",
      "\u001b[0;31mNameError\u001b[0m                                 Traceback (most recent call last)",
      "\u001b[0;32m<ipython-input-2-6a68236a7b57>\u001b[0m in \u001b[0;36m<module>\u001b[0;34m()\u001b[0m\n\u001b[1;32m      2\u001b[0m \u001b[0mexplode\u001b[0m \u001b[0;34m=\u001b[0m \u001b[0;34m(\u001b[0m\u001b[0;36m0.0\u001b[0m\u001b[0;34m,\u001b[0m \u001b[0;36m0.0\u001b[0m\u001b[0;34m,\u001b[0m \u001b[0;36m0.1\u001b[0m\u001b[0;34m)\u001b[0m\u001b[0;34m\u001b[0m\u001b[0m\n\u001b[1;32m      3\u001b[0m \u001b[0mcolors\u001b[0m \u001b[0;34m=\u001b[0m \u001b[0;34m[\u001b[0m\u001b[0;34m\"lightcoral\"\u001b[0m\u001b[0;34m,\u001b[0m \u001b[0;34m\"lightskyblue\"\u001b[0m\u001b[0;34m,\u001b[0m \u001b[0;34m\"gold\"\u001b[0m\u001b[0;34m]\u001b[0m\u001b[0;34m\u001b[0m\u001b[0m\n\u001b[0;32m----> 4\u001b[0;31m \u001b[0mplt\u001b[0m\u001b[0;34m.\u001b[0m\u001b[0mpie\u001b[0m\u001b[0;34m(\u001b[0m\u001b[0mtotal_availability_by_roomtype365_Austin\u001b[0m\u001b[0;34m,\u001b[0m\u001b[0mexplode\u001b[0m \u001b[0;34m=\u001b[0m \u001b[0mexplode\u001b[0m\u001b[0;34m,\u001b[0m \u001b[0mlabels\u001b[0m \u001b[0;34m=\u001b[0m \u001b[0mlabels\u001b[0m\u001b[0;34m,\u001b[0m \u001b[0mcolors\u001b[0m \u001b[0;34m=\u001b[0m \u001b[0mcolors\u001b[0m\u001b[0;34m,\u001b[0m \u001b[0mautopct\u001b[0m \u001b[0;34m=\u001b[0m \u001b[0;34m\"%1.1f%%\"\u001b[0m\u001b[0;34m,\u001b[0m \u001b[0mshadow\u001b[0m \u001b[0;34m=\u001b[0m \u001b[0;32mTrue\u001b[0m\u001b[0;34m,\u001b[0m \u001b[0mstartangle\u001b[0m \u001b[0;34m=\u001b[0m \u001b[0;36m150\u001b[0m\u001b[0;34m)\u001b[0m\u001b[0;34m\u001b[0m\u001b[0m\n\u001b[0m\u001b[1;32m      5\u001b[0m \u001b[0mplt\u001b[0m\u001b[0;34m.\u001b[0m\u001b[0mtitle\u001b[0m\u001b[0;34m(\u001b[0m\u001b[0;34m\"Average availability_365 per roomtype\"\u001b[0m\u001b[0;34m)\u001b[0m\u001b[0;34m\u001b[0m\u001b[0m\n\u001b[1;32m      6\u001b[0m \u001b[0mplt\u001b[0m\u001b[0;34m.\u001b[0m\u001b[0msavefig\u001b[0m\u001b[0;34m(\u001b[0m\u001b[0;34m\"/Users/stevenovis/Desktop/project1/averageavailability365chicagopie.png\"\u001b[0m\u001b[0;34m)\u001b[0m\u001b[0;34m\u001b[0m\u001b[0m\n",
      "\u001b[0;31mNameError\u001b[0m: name 'total_availability_by_roomtype365_Austin' is not defined"
     ]
    }
   ],
   "source": [
    "labels = [\"Entire home/apt\", \"Private Room\",\"Shared Room\"]\n",
    "explode = (0.0, 0.0, 0.1)\n",
    "colors = [\"lightcoral\", \"lightskyblue\", \"gold\"]\n",
    "plt.pie(total_availability_by_roomtype365_Austin,explode = explode, labels = labels, colors = colors, autopct = \"%1.1f%%\", shadow = True, startangle = 150)\n",
    "plt.title(\"Average availability_365 per roomtype\")\n",
    "plt.savefig(\"/Users/stevenovis/Desktop/project1/averageavailability365austinpie.png\")\n",
    "plt.show()\n",
    "\n",
    "pbl_Austin_new = price_by_location_Austin.iloc[0:24,:]\n",
    "pbl_Austin_new.plot(x='neighbourhood', y='price', kind='bar', color = 'navy')\n",
    "plt.title(\"Average Price per Neighbourhood in Chicago\")\n",
    "plt.xlabel(\"Neighbourhood\")\n",
    "plt.ylabel(\"Average Price($) (Top 25)\")\n",
    "plt.savefig('Output/austinLocationPriceGraph.png',bbox_inches = 'tight')\n",
    "plt.show()"
   ]
  },
  {
   "cell_type": "code",
   "execution_count": 3,
   "metadata": {},
   "outputs": [
    {
     "ename": "NameError",
     "evalue": "name 'total_availability_by_roomtype365_NYC' is not defined",
     "output_type": "error",
     "traceback": [
      "\u001b[0;31m---------------------------------------------------------------------------\u001b[0m",
      "\u001b[0;31mNameError\u001b[0m                                 Traceback (most recent call last)",
      "\u001b[0;32m<ipython-input-3-556f643a9597>\u001b[0m in \u001b[0;36m<module>\u001b[0;34m()\u001b[0m\n\u001b[1;32m      2\u001b[0m \u001b[0mexplode\u001b[0m \u001b[0;34m=\u001b[0m \u001b[0;34m(\u001b[0m\u001b[0;36m0.0\u001b[0m\u001b[0;34m,\u001b[0m \u001b[0;36m0.0\u001b[0m\u001b[0;34m,\u001b[0m \u001b[0;36m0.1\u001b[0m\u001b[0;34m)\u001b[0m\u001b[0;34m\u001b[0m\u001b[0m\n\u001b[1;32m      3\u001b[0m \u001b[0mcolors\u001b[0m \u001b[0;34m=\u001b[0m \u001b[0;34m[\u001b[0m\u001b[0;34m\"lightcoral\"\u001b[0m\u001b[0;34m,\u001b[0m \u001b[0;34m\"lightskyblue\"\u001b[0m\u001b[0;34m,\u001b[0m \u001b[0;34m\"gold\"\u001b[0m\u001b[0;34m]\u001b[0m\u001b[0;34m\u001b[0m\u001b[0m\n\u001b[0;32m----> 4\u001b[0;31m \u001b[0mplt\u001b[0m\u001b[0;34m.\u001b[0m\u001b[0mpie\u001b[0m\u001b[0;34m(\u001b[0m\u001b[0mtotal_availability_by_roomtype365_NYC\u001b[0m\u001b[0;34m,\u001b[0m\u001b[0mexplode\u001b[0m \u001b[0;34m=\u001b[0m \u001b[0mexplode\u001b[0m\u001b[0;34m,\u001b[0m \u001b[0mlabels\u001b[0m \u001b[0;34m=\u001b[0m \u001b[0mlabels\u001b[0m\u001b[0;34m,\u001b[0m \u001b[0mcolors\u001b[0m \u001b[0;34m=\u001b[0m \u001b[0mcolors\u001b[0m\u001b[0;34m,\u001b[0m \u001b[0mautopct\u001b[0m \u001b[0;34m=\u001b[0m \u001b[0;34m\"%1.1f%%\"\u001b[0m\u001b[0;34m,\u001b[0m \u001b[0mshadow\u001b[0m \u001b[0;34m=\u001b[0m \u001b[0;32mTrue\u001b[0m\u001b[0;34m,\u001b[0m \u001b[0mstartangle\u001b[0m \u001b[0;34m=\u001b[0m \u001b[0;36m150\u001b[0m\u001b[0;34m)\u001b[0m\u001b[0;34m\u001b[0m\u001b[0m\n\u001b[0m\u001b[1;32m      5\u001b[0m \u001b[0mplt\u001b[0m\u001b[0;34m.\u001b[0m\u001b[0mtitle\u001b[0m\u001b[0;34m(\u001b[0m\u001b[0;34m\"Average availability_365 per roomtype\"\u001b[0m\u001b[0;34m)\u001b[0m\u001b[0;34m\u001b[0m\u001b[0m\n\u001b[1;32m      6\u001b[0m \u001b[0mplt\u001b[0m\u001b[0;34m.\u001b[0m\u001b[0msavefig\u001b[0m\u001b[0;34m(\u001b[0m\u001b[0;34m\"/Users/stevenovis/Desktop/project1/averageavailability365chicagopie.png\"\u001b[0m\u001b[0;34m)\u001b[0m\u001b[0;34m\u001b[0m\u001b[0m\n",
      "\u001b[0;31mNameError\u001b[0m: name 'total_availability_by_roomtype365_NYC' is not defined"
     ]
    }
   ],
   "source": [
    "labels = [\"Entire home/apt\", \"Private Room\",\"Shared Room\"]\n",
    "explode = (0.0, 0.0, 0.1)\n",
    "colors = [\"lightcoral\", \"lightskyblue\", \"gold\"]\n",
    "plt.pie(total_availability_by_roomtype365_NYC,explode = explode, labels = labels, colors = colors, autopct = \"%1.1f%%\", shadow = True, startangle = 150)\n",
    "plt.title(\"Average availability_365 per roomtype\")\n",
    "plt.savefig(\"Output/averageavailability365chicagopie.png\")\n",
    "plt.show()\n",
    "\n",
    "pbl_NYC_new = price_by_location_NewYorkCity.iloc[0:24,:]\n",
    "pbl_NYC_new.plot(x='neighbourhood', y='price', kind='bar', color = 'navy')\n",
    "plt.title(\"Average Price per Neighbourhood in New York\")\n",
    "plt.xlabel(\"Neighbourhood\")\n",
    "plt.ylabel(\"Average Price($) (Top 25)\")\n",
    "plt.savefig('Output/NewYorkCityLocationPriceGraph.png',bbox_inches = 'tight')\n",
    "plt.show()"
   ]
  },
  {
   "cell_type": "code",
   "execution_count": 4,
   "metadata": {},
   "outputs": [
    {
     "ename": "NameError",
     "evalue": "name 'total_availability_by_roomtype365_SanFrancisco' is not defined",
     "output_type": "error",
     "traceback": [
      "\u001b[0;31m---------------------------------------------------------------------------\u001b[0m",
      "\u001b[0;31mNameError\u001b[0m                                 Traceback (most recent call last)",
      "\u001b[0;32m<ipython-input-4-662bc76226a8>\u001b[0m in \u001b[0;36m<module>\u001b[0;34m()\u001b[0m\n\u001b[1;32m      2\u001b[0m \u001b[0mexplode\u001b[0m \u001b[0;34m=\u001b[0m \u001b[0;34m(\u001b[0m\u001b[0;36m0.0\u001b[0m\u001b[0;34m,\u001b[0m \u001b[0;36m0.0\u001b[0m\u001b[0;34m,\u001b[0m \u001b[0;36m0.1\u001b[0m\u001b[0;34m)\u001b[0m\u001b[0;34m\u001b[0m\u001b[0m\n\u001b[1;32m      3\u001b[0m \u001b[0mcolors\u001b[0m \u001b[0;34m=\u001b[0m \u001b[0;34m[\u001b[0m\u001b[0;34m\"lightcoral\"\u001b[0m\u001b[0;34m,\u001b[0m \u001b[0;34m\"lightskyblue\"\u001b[0m\u001b[0;34m,\u001b[0m \u001b[0;34m\"gold\"\u001b[0m\u001b[0;34m]\u001b[0m\u001b[0;34m\u001b[0m\u001b[0m\n\u001b[0;32m----> 4\u001b[0;31m \u001b[0mplt\u001b[0m\u001b[0;34m.\u001b[0m\u001b[0mpie\u001b[0m\u001b[0;34m(\u001b[0m\u001b[0mtotal_availability_by_roomtype365_SanFrancisco\u001b[0m\u001b[0;34m,\u001b[0m\u001b[0mexplode\u001b[0m \u001b[0;34m=\u001b[0m \u001b[0mexplode\u001b[0m\u001b[0;34m,\u001b[0m \u001b[0mlabels\u001b[0m \u001b[0;34m=\u001b[0m \u001b[0mlabels\u001b[0m\u001b[0;34m,\u001b[0m \u001b[0mcolors\u001b[0m \u001b[0;34m=\u001b[0m \u001b[0mcolors\u001b[0m\u001b[0;34m,\u001b[0m \u001b[0mautopct\u001b[0m \u001b[0;34m=\u001b[0m \u001b[0;34m\"%1.1f%%\"\u001b[0m\u001b[0;34m,\u001b[0m \u001b[0mshadow\u001b[0m \u001b[0;34m=\u001b[0m \u001b[0;32mTrue\u001b[0m\u001b[0;34m,\u001b[0m \u001b[0mstartangle\u001b[0m \u001b[0;34m=\u001b[0m \u001b[0;36m150\u001b[0m\u001b[0;34m)\u001b[0m\u001b[0;34m\u001b[0m\u001b[0m\n\u001b[0m\u001b[1;32m      5\u001b[0m \u001b[0mplt\u001b[0m\u001b[0;34m.\u001b[0m\u001b[0mtitle\u001b[0m\u001b[0;34m(\u001b[0m\u001b[0;34m\"Average availability_365 per roomtype\"\u001b[0m\u001b[0;34m)\u001b[0m\u001b[0;34m\u001b[0m\u001b[0m\n\u001b[1;32m      6\u001b[0m \u001b[0mplt\u001b[0m\u001b[0;34m.\u001b[0m\u001b[0msavefig\u001b[0m\u001b[0;34m(\u001b[0m\u001b[0;34m\"/Users/stevenovis/Desktop/project1/averageavailability365chicagopie.png\"\u001b[0m\u001b[0;34m)\u001b[0m\u001b[0;34m\u001b[0m\u001b[0m\n",
      "\u001b[0;31mNameError\u001b[0m: name 'total_availability_by_roomtype365_SanFrancisco' is not defined"
     ]
    }
   ],
   "source": [
    "labels = [\"Entire home/apt\", \"Private Room\",\"Shared Room\"]\n",
    "explode = (0.0, 0.0, 0.1)\n",
    "colors = [\"lightcoral\", \"lightskyblue\", \"gold\"]\n",
    "plt.pie(total_availability_by_roomtype365_SanFrancisco,explode = explode, labels = labels, colors = colors, autopct = \"%1.1f%%\", shadow = True, startangle = 150)\n",
    "plt.title(\"Average availability_365 per roomtype\")\n",
    "plt.savefig(\"/Users/stevenovis/Desktop/project1/averageavailability365chicagopie.png\")\n",
    "plt.show()\n",
    "\n",
    "pbl_SF_new = price_by_location_SanFrancisco.iloc[0:24,:]\n",
    "pbl_SF_new.plot(x='neighbourhood', y='price', kind='bar', color = 'navy')\n",
    "plt.title(\"Average Price per Neighbourhood in San Francisco\")\n",
    "plt.xlabel(\"Neighbourhood\")\n",
    "plt.ylabel(\"Average Price($) (Top 25)\")\n",
    "plt.savefig('Output/SanFranLocationPriceGraph.png',bbox_inches = 'tight')\n",
    "plt.show()"
   ]
  },
  {
   "cell_type": "code",
   "execution_count": 5,
   "metadata": {
    "scrolled": true
   },
   "outputs": [
    {
     "ename": "NameError",
     "evalue": "name 'mean_price_city_Chicago' is not defined",
     "output_type": "error",
     "traceback": [
      "\u001b[0;31m---------------------------------------------------------------------------\u001b[0m",
      "\u001b[0;31mNameError\u001b[0m                                 Traceback (most recent call last)",
      "\u001b[0;32m<ipython-input-5-5275c9765bdc>\u001b[0m in \u001b[0;36m<module>\u001b[0;34m()\u001b[0m\n\u001b[0;32m----> 1\u001b[0;31m \u001b[0mcities_average_price\u001b[0m \u001b[0;34m=\u001b[0m \u001b[0;34m[\u001b[0m\u001b[0mmean_price_city_Chicago\u001b[0m\u001b[0;34m,\u001b[0m \u001b[0mmean_price_city_Austin\u001b[0m\u001b[0;34m,\u001b[0m \u001b[0mmean_price_city_NewYorkCity\u001b[0m\u001b[0;34m,\u001b[0m \u001b[0mmean_price_city_SanFrancisco\u001b[0m\u001b[0;34m]\u001b[0m\u001b[0;34m\u001b[0m\u001b[0m\n\u001b[0m\u001b[1;32m      2\u001b[0m \u001b[0mcities\u001b[0m \u001b[0;34m=\u001b[0m \u001b[0;34m[\u001b[0m\u001b[0;34m\"Chicago\"\u001b[0m\u001b[0;34m,\u001b[0m \u001b[0;34m\"Austin\"\u001b[0m\u001b[0;34m,\u001b[0m \u001b[0;34m\"New York City\"\u001b[0m\u001b[0;34m,\u001b[0m \u001b[0;34m\"San Francisco\"\u001b[0m\u001b[0;34m]\u001b[0m\u001b[0;34m\u001b[0m\u001b[0m\n\u001b[1;32m      3\u001b[0m \u001b[0mcolorsList\u001b[0m \u001b[0;34m=\u001b[0m \u001b[0;34m[\u001b[0m\u001b[0;34m\"red\"\u001b[0m \u001b[0;34m,\u001b[0m \u001b[0;34m\"blue\"\u001b[0m\u001b[0;34m,\u001b[0m \u001b[0;34m\"yellow\"\u001b[0m\u001b[0;34m,\u001b[0m \u001b[0;34m\"green\"\u001b[0m\u001b[0;34m]\u001b[0m\u001b[0;34m\u001b[0m\u001b[0m\n\u001b[1;32m      4\u001b[0m \u001b[0mx_axis\u001b[0m \u001b[0;34m=\u001b[0m \u001b[0mnp\u001b[0m\u001b[0;34m.\u001b[0m\u001b[0marange\u001b[0m\u001b[0;34m(\u001b[0m\u001b[0mlen\u001b[0m\u001b[0;34m(\u001b[0m\u001b[0mcities\u001b[0m\u001b[0;34m)\u001b[0m\u001b[0;34m)\u001b[0m\u001b[0;34m\u001b[0m\u001b[0m\n\u001b[1;32m      5\u001b[0m \u001b[0mplt\u001b[0m\u001b[0;34m.\u001b[0m\u001b[0mbar\u001b[0m\u001b[0;34m(\u001b[0m\u001b[0mx_axis\u001b[0m\u001b[0;34m,\u001b[0m \u001b[0mcities_average_price\u001b[0m\u001b[0;34m,\u001b[0m \u001b[0mcolor\u001b[0m\u001b[0;34m=\u001b[0m\u001b[0mcolorsList\u001b[0m\u001b[0;34m,\u001b[0m \u001b[0malign\u001b[0m\u001b[0;34m=\u001b[0m\u001b[0;34m\"center\"\u001b[0m\u001b[0;34m,\u001b[0m \u001b[0medgecolor\u001b[0m\u001b[0;34m=\u001b[0m\u001b[0;34m\"black\"\u001b[0m\u001b[0;34m)\u001b[0m\u001b[0;34m\u001b[0m\u001b[0m\n",
      "\u001b[0;31mNameError\u001b[0m: name 'mean_price_city_Chicago' is not defined"
     ]
    }
   ],
   "source": [
    "cities_average_price = [mean_price_city_Chicago, mean_price_city_Austin, mean_price_city_NewYorkCity, mean_price_city_SanFrancisco]\n",
    "cities = [\"Chicago\", \"Austin\", \"New York City\", \"San Francisco\"]\n",
    "colorsList = [\"red\" , \"blue\", \"yellow\", \"green\"]\n",
    "x_axis = np.arange(len(cities))\n",
    "plt.bar(x_axis, cities_average_price, color=colorsList, align=\"center\", edgecolor=\"black\")\n",
    "tick_locations = [value for value in x_axis]\n",
    "plt.xticks(tick_locations, cities)\n",
    "plt.title(\"Average Price by City\")\n",
    "plt.ylabel(\"Price ($)\")\n",
    "plt.xlabel(\"City\")\n",
    "plt.savefig('Output/avgpricepercity.png')\n",
    "plt.show()"
   ]
  },
  {
   "cell_type": "code",
   "execution_count": null,
   "metadata": {
    "collapsed": true
   },
   "outputs": [],
   "source": [
    "cities_average_review = [mean_reviews_Chicago, mean_reviews_Austin, mean_reviews_NewYorkCity, mean_reviews_SanFrancisco]\n",
    "cities = [\"Chicago\", \"Austin\", \"New York City\", \"San Francisco\"]\n",
    "colorsList = [\"red\" , \"blue\", \"yellow\", \"green\"]\n",
    "x_axis = np.arange(len(cities))\n",
    "plt.bar(x_axis, cities_average_review, color=colorsList, align=\"center\", edgecolor=\"black\")\n",
    "tick_locations = [value for value in x_axis]\n",
    "plt.xticks(tick_locations, cities)\n",
    "plt.title(\"Average Review Rating by City\")\n",
    "plt.ylabel(\"Rating\")\n",
    "plt.xlabel(\"City\")\n",
    "plt.ylim(90)\n",
    "plt.savefig(\"Output/meanreviewscity.png\")\n",
    "plt.show()"
   ]
  }
 ],
 "metadata": {
  "kernelspec": {
   "display_name": "Python 3",
   "language": "python",
   "name": "python3"
  },
  "language_info": {
   "codemirror_mode": {
    "name": "ipython",
    "version": 3
   },
   "file_extension": ".py",
   "mimetype": "text/x-python",
   "name": "python",
   "nbconvert_exporter": "python",
   "pygments_lexer": "ipython3",
   "version": "3.6.5"
  }
 },
 "nbformat": 4,
 "nbformat_minor": 2
}
